{
 "cells": [
  {
   "cell_type": "code",
   "execution_count": 28,
   "id": "3d3d94d1",
   "metadata": {},
   "outputs": [],
   "source": [
    "#Neccessary Librabries \n",
    "import pandas as pd\n",
    "import matplotlib.pyplot as plt\n",
    "import numpy as np\n",
    "import seaborn as sns\n",
    "from sklearn.model_selection import train_test_split\n",
    "from sklearn.ensemble import RandomForestRegressor, GradientBoostingRegressor\n",
    "from sklearn.metrics import confusion_matrix\n",
    "from sklearn.metrics import mean_squared_error, r2_score\n",
    "from sklearn.linear_model import LinearRegression\n",
    "from sklearn.linear_model import Ridge, Lasso, ElasticNet"
   ]
  },
  {
   "cell_type": "code",
   "execution_count": 29,
   "id": "950177a6",
   "metadata": {},
   "outputs": [],
   "source": [
    "df=pd.read_csv(\"C:/Users/pvsai/Downloads/archive (8)/realest.csv\")"
   ]
  },
  {
   "cell_type": "code",
   "execution_count": 30,
   "id": "8195632a",
   "metadata": {},
   "outputs": [
    {
     "name": "stdout",
     "output_type": "stream",
     "text": [
      "<class 'pandas.core.frame.DataFrame'>\n",
      "RangeIndex: 157 entries, 0 to 156\n",
      "Data columns (total 9 columns):\n",
      " #   Column     Non-Null Count  Dtype  \n",
      "---  ------     --------------  -----  \n",
      " 0   Price      156 non-null    float64\n",
      " 1   Bedroom    156 non-null    float64\n",
      " 2   Space      146 non-null    float64\n",
      " 3   Room       156 non-null    float64\n",
      " 4   Lot        146 non-null    float64\n",
      " 5   Tax        147 non-null    float64\n",
      " 6   Bathroom   156 non-null    float64\n",
      " 7   Garage     156 non-null    float64\n",
      " 8   Condition  156 non-null    float64\n",
      "dtypes: float64(9)\n",
      "memory usage: 11.2 KB\n"
     ]
    },
    {
     "data": {
      "text/html": [
       "<div>\n",
       "<style scoped>\n",
       "    .dataframe tbody tr th:only-of-type {\n",
       "        vertical-align: middle;\n",
       "    }\n",
       "\n",
       "    .dataframe tbody tr th {\n",
       "        vertical-align: top;\n",
       "    }\n",
       "\n",
       "    .dataframe thead th {\n",
       "        text-align: right;\n",
       "    }\n",
       "</style>\n",
       "<table border=\"1\" class=\"dataframe\">\n",
       "  <thead>\n",
       "    <tr style=\"text-align: right;\">\n",
       "      <th></th>\n",
       "      <th>Price</th>\n",
       "      <th>Bedroom</th>\n",
       "      <th>Space</th>\n",
       "      <th>Room</th>\n",
       "      <th>Lot</th>\n",
       "      <th>Tax</th>\n",
       "      <th>Bathroom</th>\n",
       "      <th>Garage</th>\n",
       "      <th>Condition</th>\n",
       "    </tr>\n",
       "  </thead>\n",
       "  <tbody>\n",
       "    <tr>\n",
       "      <th>count</th>\n",
       "      <td>156.000000</td>\n",
       "      <td>156.000000</td>\n",
       "      <td>146.000000</td>\n",
       "      <td>156.000000</td>\n",
       "      <td>146.000000</td>\n",
       "      <td>147.000000</td>\n",
       "      <td>156.000000</td>\n",
       "      <td>156.000000</td>\n",
       "      <td>156.000000</td>\n",
       "    </tr>\n",
       "    <tr>\n",
       "      <th>mean</th>\n",
       "      <td>56.474359</td>\n",
       "      <td>3.166667</td>\n",
       "      <td>1097.246575</td>\n",
       "      <td>6.500000</td>\n",
       "      <td>32.808219</td>\n",
       "      <td>911.707483</td>\n",
       "      <td>1.480769</td>\n",
       "      <td>0.846154</td>\n",
       "      <td>0.230769</td>\n",
       "    </tr>\n",
       "    <tr>\n",
       "      <th>std</th>\n",
       "      <td>12.875307</td>\n",
       "      <td>1.348037</td>\n",
       "      <td>462.540698</td>\n",
       "      <td>1.675247</td>\n",
       "      <td>8.457859</td>\n",
       "      <td>443.263430</td>\n",
       "      <td>0.529408</td>\n",
       "      <td>0.808454</td>\n",
       "      <td>0.422682</td>\n",
       "    </tr>\n",
       "    <tr>\n",
       "      <th>min</th>\n",
       "      <td>32.000000</td>\n",
       "      <td>1.000000</td>\n",
       "      <td>539.000000</td>\n",
       "      <td>4.000000</td>\n",
       "      <td>24.000000</td>\n",
       "      <td>418.000000</td>\n",
       "      <td>1.000000</td>\n",
       "      <td>0.000000</td>\n",
       "      <td>0.000000</td>\n",
       "    </tr>\n",
       "    <tr>\n",
       "      <th>25%</th>\n",
       "      <td>46.000000</td>\n",
       "      <td>2.000000</td>\n",
       "      <td>805.250000</td>\n",
       "      <td>5.000000</td>\n",
       "      <td>25.000000</td>\n",
       "      <td>652.500000</td>\n",
       "      <td>1.000000</td>\n",
       "      <td>0.000000</td>\n",
       "      <td>0.000000</td>\n",
       "    </tr>\n",
       "    <tr>\n",
       "      <th>50%</th>\n",
       "      <td>55.000000</td>\n",
       "      <td>3.000000</td>\n",
       "      <td>965.500000</td>\n",
       "      <td>6.000000</td>\n",
       "      <td>30.000000</td>\n",
       "      <td>821.000000</td>\n",
       "      <td>1.500000</td>\n",
       "      <td>1.000000</td>\n",
       "      <td>0.000000</td>\n",
       "    </tr>\n",
       "    <tr>\n",
       "      <th>75%</th>\n",
       "      <td>65.000000</td>\n",
       "      <td>4.000000</td>\n",
       "      <td>1220.500000</td>\n",
       "      <td>7.000000</td>\n",
       "      <td>37.000000</td>\n",
       "      <td>1012.500000</td>\n",
       "      <td>2.000000</td>\n",
       "      <td>1.500000</td>\n",
       "      <td>0.000000</td>\n",
       "    </tr>\n",
       "    <tr>\n",
       "      <th>max</th>\n",
       "      <td>90.000000</td>\n",
       "      <td>8.000000</td>\n",
       "      <td>2295.000000</td>\n",
       "      <td>12.000000</td>\n",
       "      <td>50.000000</td>\n",
       "      <td>2752.000000</td>\n",
       "      <td>3.000000</td>\n",
       "      <td>2.000000</td>\n",
       "      <td>1.000000</td>\n",
       "    </tr>\n",
       "  </tbody>\n",
       "</table>\n",
       "</div>"
      ],
      "text/plain": [
       "            Price     Bedroom        Space        Room         Lot  \\\n",
       "count  156.000000  156.000000   146.000000  156.000000  146.000000   \n",
       "mean    56.474359    3.166667  1097.246575    6.500000   32.808219   \n",
       "std     12.875307    1.348037   462.540698    1.675247    8.457859   \n",
       "min     32.000000    1.000000   539.000000    4.000000   24.000000   \n",
       "25%     46.000000    2.000000   805.250000    5.000000   25.000000   \n",
       "50%     55.000000    3.000000   965.500000    6.000000   30.000000   \n",
       "75%     65.000000    4.000000  1220.500000    7.000000   37.000000   \n",
       "max     90.000000    8.000000  2295.000000   12.000000   50.000000   \n",
       "\n",
       "               Tax    Bathroom      Garage   Condition  \n",
       "count   147.000000  156.000000  156.000000  156.000000  \n",
       "mean    911.707483    1.480769    0.846154    0.230769  \n",
       "std     443.263430    0.529408    0.808454    0.422682  \n",
       "min     418.000000    1.000000    0.000000    0.000000  \n",
       "25%     652.500000    1.000000    0.000000    0.000000  \n",
       "50%     821.000000    1.500000    1.000000    0.000000  \n",
       "75%    1012.500000    2.000000    1.500000    0.000000  \n",
       "max    2752.000000    3.000000    2.000000    1.000000  "
      ]
     },
     "execution_count": 30,
     "metadata": {},
     "output_type": "execute_result"
    }
   ],
   "source": [
    "df.info()\n",
    "df.describe()"
   ]
  },
  {
   "cell_type": "code",
   "execution_count": 31,
   "id": "e6e9be6c",
   "metadata": {},
   "outputs": [
    {
     "data": {
      "text/plain": [
       "Price        0\n",
       "Bedroom      0\n",
       "Space        0\n",
       "Room         0\n",
       "Lot          0\n",
       "Tax          0\n",
       "Bathroom     0\n",
       "Garage       0\n",
       "Condition    0\n",
       "dtype: int64"
      ]
     },
     "execution_count": 31,
     "metadata": {},
     "output_type": "execute_result"
    }
   ],
   "source": [
    "df.fillna(df.median(), inplace=True)\n",
    "missing_values = df.isnull().sum()\n",
    "missing_values"
   ]
  },
  {
   "cell_type": "code",
   "execution_count": 33,
   "id": "8d7de95d",
   "metadata": {},
   "outputs": [],
   "source": [
    "# 1. Regression Models to predict the prices of the house\n",
    "# Split data for regression into training(80%) and testing(20%).\n",
    "Reg = df.drop(columns='Price')\n",
    "Reg2 = df['Price']\n",
    "Reg_train, Reg_test, Reg2_train, Reg2_test = train_test_split(Reg, Reg2, test_size=0.2, random_state=42)"
   ]
  },
  {
   "cell_type": "code",
   "execution_count": 34,
   "id": "7fcb5223",
   "metadata": {},
   "outputs": [
    {
     "name": "stdout",
     "output_type": "stream",
     "text": [
      "Linear Regression Mean Squared Error: 67.61406527336344\n",
      "Linear Regression R^2 Score: 0.5996113735518254\n"
     ]
    }
   ],
   "source": [
    "# Linear Regression\n",
    "# Initialize and train the Linear Regression model\n",
    "lr = LinearRegression()\n",
    "lr.fit(Reg_train, Reg2_train)\n",
    "\n",
    "# Predict on the testing set\n",
    "Reg2_pred_lr = lr.predict(Reg_test)\n",
    "\n",
    "# Evaluate the Linear Regression model\n",
    "print(\"Linear Regression Mean Squared Error:\", mean_squared_error(Reg2_test, Reg2_pred_lr))\n",
    "print(\"Linear Regression R^2 Score:\", r2_score(Reg2_test, Reg2_pred_lr))\n"
   ]
  },
  {
   "cell_type": "code",
   "execution_count": 36,
   "id": "79aec7fd",
   "metadata": {},
   "outputs": [
    {
     "name": "stdout",
     "output_type": "stream",
     "text": [
      "Random Forest Regressor Mean Squared Error: 24.674909656249998\n",
      "Random Forest Regressor R^2 Score: 0.853883165506234\n"
     ]
    }
   ],
   "source": [
    "# Random Forest Regressosion\n",
    "# Initialize and train the Random Forest Regressosion\n",
    "rfr = RandomForestRegressor(n_estimators=1000, random_state=42)\n",
    "rfr.fit(Reg_train, Reg2_train)\n",
    "\n",
    "# Predict on the testing set\n",
    "Reg2_pred_rfr = rfr.predict(Reg_test)\n",
    "\n",
    "# Evaluate the Random Forest Regressor\n",
    "print(\"Random Forest Regressor Mean Squared Error:\", mean_squared_error(Reg2_test, Reg2_pred_rfr))\n",
    "print(\"Random Forest Regressor R^2 Score:\", r2_score(Reg2_test, Reg2_pred_rfr))\n"
   ]
  },
  {
   "cell_type": "code",
   "execution_count": 37,
   "id": "afdb37cf",
   "metadata": {},
   "outputs": [
    {
     "name": "stdout",
     "output_type": "stream",
     "text": [
      "Gradient Boosting Regressor Mean Squared Error: 22.741056032594994\n",
      "Gradient Boosting Regressor R^2 Score: 0.8653348212082923\n"
     ]
    }
   ],
   "source": [
    "# Gradient Boosting Regressosion\n",
    "# Initialize and train the Random Forest Regressosion\n",
    "gbr = GradientBoostingRegressor(n_estimators=1000, learning_rate=0.1, max_depth=3, random_state=42)\n",
    "gbr.fit(Reg_train, Reg2_train)\n",
    "\n",
    "# Predict on the testing set\n",
    "Reg2_pred_gbr = gbr.predict(Reg_test)\n",
    "\n",
    "# Evaluate the Gradient Boosting Regressor\n",
    "print(\"Gradient Boosting Regressor Mean Squared Error:\", mean_squared_error(Reg2_test, Reg2_pred_gbr))\n",
    "print(\"Gradient Boosting Regressor R^2 Score:\", r2_score(Reg2_test, Reg2_pred_gbr))"
   ]
  },
  {
   "cell_type": "code",
   "execution_count": 38,
   "id": "7febb82e",
   "metadata": {},
   "outputs": [
    {
     "name": "stdout",
     "output_type": "stream",
     "text": [
      "Ridge Mean Squared Error: 67.56420331371083\n",
      "Ridge R^2 Score: 0.5999066399502677\n",
      "Lasso Mean Squared Error: 68.00815731972337\n",
      "Lasso R^2 Score: 0.5972776879126279\n",
      "Elastic Net Mean Squared Error: 67.66962221245691\n",
      "Elastic Net R^2 Score: 0.5992823833270345\n"
     ]
    }
   ],
   "source": [
    "# L2 Regularization: Ridge Regression\n",
    "ridge = Ridge(alpha=1.0)\n",
    "ridge.fit(Reg_train, Reg2_train)\n",
    "ridge_pred = ridge.predict(Reg_test)\n",
    "print(\"Ridge Mean Squared Error:\", mean_squared_error(Reg2_test, ridge_pred))\n",
    "print(\"Ridge R^2 Score:\", r2_score(Reg2_test, ridge_pred))\n",
    "\n",
    "# L1 Regularization: Lasso Regression\n",
    "lasso = Lasso(alpha=0.1)\n",
    "lasso.fit(Reg_train, Reg2_train)\n",
    "lasso_pred = lasso.predict(Reg_test)\n",
    "print(\"Lasso Mean Squared Error:\", mean_squared_error(Reg2_test, lasso_pred))\n",
    "print(\"Lasso R^2 Score:\", r2_score(Reg2_test, lasso_pred))\n",
    "\n",
    "# L1 + L2 Regularization: Elastic Net\n",
    "elastic= ElasticNet(alpha=0.1, l1_ratio=0.5)\n",
    "elastic.fit(Reg_train, Reg2_train)\n",
    "elastic_pred = elastic.predict(Reg_test)\n",
    "print(\"Elastic Net Mean Squared Error:\", mean_squared_error(Reg2_test, elastic_pred))\n",
    "print(\"Elastic Net R^2 Score:\", r2_score(Reg2_test, elastic_pred))"
   ]
  },
  {
   "cell_type": "markdown",
   "id": "2d317f28",
   "metadata": {},
   "source": [
    "# Conclusion:\n",
    "The R^2 scores are:\n",
    "Linear Regression: 0.59\n",
    "Random Forest Regressor: 0.85\n",
    "Gradient Boosting Regressor: 0.86\n",
    "Ridge: 0.59\n",
    "Lasso: 0.59\n",
    "Elastic Net: 0.59\n",
    "\n",
    "In Regression model, Gradient Boosting Regressor is the best model with R^2 score of 0.86."
   ]
  }
 ],
 "metadata": {
  "kernelspec": {
   "display_name": "Python 3 (ipykernel)",
   "language": "python",
   "name": "python3"
  },
  "language_info": {
   "codemirror_mode": {
    "name": "ipython",
    "version": 3
   },
   "file_extension": ".py",
   "mimetype": "text/x-python",
   "name": "python",
   "nbconvert_exporter": "python",
   "pygments_lexer": "ipython3",
   "version": "3.11.5"
  }
 },
 "nbformat": 4,
 "nbformat_minor": 5
}
